{
 "cells": [
  {
   "cell_type": "markdown",
   "metadata": {},
   "source": [
    "# Data Mining in Action, Deep Leaning"
   ]
  },
  {
   "cell_type": "markdown",
   "metadata": {},
   "source": [
    "Авторы ноутбука: \n",
    "1. Петр Иванов (telegram: @dataisdata, linkedin: www.linkedin.com/in/petr-ivanov-58995570/)\n",
    "2. Kjetil Åmdal-Sævik"
   ]
  },
  {
   "cell_type": "markdown",
   "metadata": {
    "toc": true
   },
   "source": [
    "<h1>Разделы<span class=\"tocSkip\"></span></h1>\n",
    "<div class=\"toc\" style=\"margin-top: 1em;\"><ul class=\"toc-item\"><li><span><a href=\"#Семантическая-сегментация\" data-toc-modified-id=\"Семантическая-сегментация-1\"><span class=\"toc-item-num\">1&nbsp;&nbsp;</span>Семантическая сегментация</a></span></li><li><span><a href=\"#Импорты\" data-toc-modified-id=\"Импорты-2\"><span class=\"toc-item-num\">2&nbsp;&nbsp;</span>Импорты</a></span></li><li><span><a href=\"#Вспомогательные-функции\" data-toc-modified-id=\"Вспомогательные-функции-3\"><span class=\"toc-item-num\">3&nbsp;&nbsp;</span>Вспомогательные функции</a></span></li><li><span><a href=\"#Предобработка-данных\" data-toc-modified-id=\"Предобработка-данных-4\"><span class=\"toc-item-num\">4&nbsp;&nbsp;</span>Предобработка данных</a></span></li><li><span><a href=\"#Создадим-метрику-для-оценки-качества-модели\" data-toc-modified-id=\"Создадим-метрику-для-оценки-качества-модели-5\"><span class=\"toc-item-num\">5&nbsp;&nbsp;</span>Создадим метрику для оценки качества модели</a></span></li><li><span><a href=\"#Построение-сети\" data-toc-modified-id=\"Построение-сети-6\"><span class=\"toc-item-num\">6&nbsp;&nbsp;</span>Построение сети</a></span></li><li><span><a href=\"#Построим-пару-графиков\" data-toc-modified-id=\"Построим-пару-графиков-7\"><span class=\"toc-item-num\">7&nbsp;&nbsp;</span>Построим пару графиков</a></span><ul class=\"toc-item\"><li><ul class=\"toc-item\"><li><span><a href=\"#Зависимость-лосса-от-количества-эпох:\" data-toc-modified-id=\"Зависимость-лосса-от-количества-эпох:-7.0.1\"><span class=\"toc-item-num\">7.0.1&nbsp;&nbsp;</span>Зависимость лосса от количества эпох:</a></span></li><li><span><a href=\"#Зависимость-метрики-mean-IoU-от-количества-эпох\" data-toc-modified-id=\"Зависимость-метрики-mean-IoU-от-количества-эпох-7.0.2\"><span class=\"toc-item-num\">7.0.2&nbsp;&nbsp;</span>Зависимость метрики mean IoU от количества эпох</a></span></li></ul></li></ul></li><li><span><a href=\"#Предсказания-модели\" data-toc-modified-id=\"Предсказания-модели-8\"><span class=\"toc-item-num\">8&nbsp;&nbsp;</span>Предсказания модели</a></span></li><li><span><a href=\"#Подготовим-результаты-для-сабмита\" data-toc-modified-id=\"Подготовим-результаты-для-сабмита-9\"><span class=\"toc-item-num\">9&nbsp;&nbsp;</span>Подготовим результаты для сабмита</a></span></li></ul></div>"
   ]
  },
  {
   "cell_type": "markdown",
   "metadata": {
    "_cell_guid": "e61ef2d8-f315-4f7f-b07e-1de0f4e8441a",
    "_uuid": "1677fddbb95f7545b6540e9201f3339a0fdbfc5d"
   },
   "source": [
    "## Семантическая сегментация\n",
    "\n",
    "В этом задании мы будем практиковаться в семантической сегментации. Реализуем популярную сеть для решения задачи семантической сегментации U-net, обучим её на датасете с фигурами Lego, оценим качество модели.\n",
    "\n",
    "Перед тем как приступать к выполнению задания не забудьте:\n",
    "1. Настроить виртуальное окружение, инструкция находится в репозитории курса.\n",
    "2. Выполнить команду ```pip install -r <path_to_rep_requirements.txt>``` для того, чтобы в вашем виртуальном окружении были установлены правильные версии python пакетов.\n",
    "3. Скачать датасет в директорию, в которой находится данный ноутбук (../DMIA_DL_2019_Autumn/homework_segmentation). Датасет доступен по ссылке https://drive.google.com/open?id=1czbfhH7uMbyfM1su1uzGNU1VdoLioE43"
   ]
  },
  {
   "cell_type": "markdown",
   "metadata": {},
   "source": [
    "## Импорты"
   ]
  },
  {
   "cell_type": "code",
   "execution_count": null,
   "metadata": {
    "ExecuteTime": {
     "end_time": "2019-10-26T20:24:29.427331Z",
     "start_time": "2019-10-26T20:24:29.137127Z"
    }
   },
   "outputs": [],
   "source": [
    "import matplotlib.pyplot as plt\n",
    "plt.style.use('ggplot')\n",
    "%matplotlib inline\n",
    "plt.rcParams['figure.figsize'] = (15, 12) # установим стандратный размер графиков"
   ]
  },
  {
   "cell_type": "code",
   "execution_count": null,
   "metadata": {
    "ExecuteTime": {
     "end_time": "2019-10-26T20:24:32.906058Z",
     "start_time": "2019-10-26T20:24:30.288179Z"
    },
    "_cell_guid": "c332549b-8d23-4bb5-8497-e7a8eb8b21d2",
    "_uuid": "5c38504af3a84bee68c66d3cde74443c58df422f"
   },
   "outputs": [],
   "source": [
    "import cv2\n",
    "import os\n",
    "import sys\n",
    "import random\n",
    "import warnings\n",
    "\n",
    "import numpy as np\n",
    "import pandas as pd\n",
    "\n",
    "import matplotlib.pyplot as plt\n",
    "\n",
    "from tqdm import tqdm\n",
    "from itertools import chain\n",
    "from skimage.io import imread, imshow, imread_collection, concatenate_images\n",
    "from skimage.transform import resize\n",
    "from skimage.morphology import label\n",
    "\n",
    "from keras.models import Model, load_model\n",
    "from keras.layers import Input\n",
    "from keras.layers.core import Dropout, Lambda\n",
    "from keras.layers.convolutional import Conv2D, Conv2DTranspose\n",
    "from keras.layers.pooling import MaxPooling2D\n",
    "from keras.layers.merge import concatenate\n",
    "from keras.callbacks import EarlyStopping, ModelCheckpoint\n",
    "from keras import backend as K\n",
    "\n",
    "import tensorflow as tf\n",
    "\n",
    "# Установим параметры изображений\n",
    "IMG_WIDTH = 256\n",
    "IMG_HEIGHT = 256\n",
    "IMG_CHANNELS = 3\n",
    "\n",
    "# Определим пути к изображениям и их маскам\n",
    "TRAIN_PATH = './lego_train_images/'\n",
    "TEST_PATH = './lego_test_images/'\n",
    "\n",
    "warnings.filterwarnings('ignore', category=UserWarning, module='skimage')\n",
    "\n",
    "# сделаем результаты воспроизводимыми\n",
    "seed = 42\n",
    "random.seed = seed\n",
    "np.random.seed = seed"
   ]
  },
  {
   "cell_type": "code",
   "execution_count": null,
   "metadata": {
    "ExecuteTime": {
     "end_time": "2019-10-26T20:24:32.912064Z",
     "start_time": "2019-10-26T20:24:32.908061Z"
    },
    "_cell_guid": "ffa0caf0-2d1b-40f2-865b-8e6db88526b6",
    "_uuid": "3fb9d6530fbbd0e22e41fc4fd9fd9fc0bff027ac"
   },
   "outputs": [],
   "source": [
    "# Получим тренировочные и тестовые ids\n",
    "train_ids = next(os.walk(TRAIN_PATH))[1]\n",
    "test_ids = next(os.walk(TEST_PATH))[1]"
   ]
  },
  {
   "cell_type": "markdown",
   "metadata": {
    "ExecuteTime": {
     "end_time": "2019-10-26T15:38:48.454856Z",
     "start_time": "2019-10-26T15:38:48.452836Z"
    }
   },
   "source": [
    "## Вспомогательные функции"
   ]
  },
  {
   "cell_type": "code",
   "execution_count": null,
   "metadata": {
    "ExecuteTime": {
     "end_time": "2019-10-26T20:24:34.044556Z",
     "start_time": "2019-10-26T20:24:34.040573Z"
    }
   },
   "outputs": [],
   "source": [
    "def hex_2_rgb(hex):\n",
    "    return tuple(int(hex[i:i+2], 16) for i in (0, 2, 4))"
   ]
  },
  {
   "cell_type": "code",
   "execution_count": null,
   "metadata": {
    "ExecuteTime": {
     "end_time": "2019-10-26T20:24:34.491717Z",
     "start_time": "2019-10-26T20:24:34.487715Z"
    }
   },
   "outputs": [],
   "source": [
    "classes_pallete = ['2F8E3C','87CF6E','AC75D1','B4A83C'\n",
    "                  ,'3BB0A4','DFDC9F','3D47B8','862D6D'\n",
    "                  ,'88CED7','CF716E','82622B','503399'\n",
    "                  ,'DDC9ED','C1448F','5381C6','FFDF64',\n",
    "                  '14DB8F']"
   ]
  },
  {
   "cell_type": "code",
   "execution_count": null,
   "metadata": {
    "ExecuteTime": {
     "end_time": "2019-10-26T20:24:34.924049Z",
     "start_time": "2019-10-26T20:24:34.920047Z"
    }
   },
   "outputs": [],
   "source": [
    "class_color = [hex_2_rgb(color) for color in classes_pallete]"
   ]
  },
  {
   "cell_type": "code",
   "execution_count": null,
   "metadata": {
    "ExecuteTime": {
     "end_time": "2019-10-26T20:24:35.508227Z",
     "start_time": "2019-10-26T20:24:35.504230Z"
    }
   },
   "outputs": [],
   "source": [
    "def get_masked_image(image, mask):\n",
    "    out = image.copy()\n",
    "    for i in range(3):\n",
    "        out[:,:,i][mask[:,:,0]==20] = 0 \n",
    "    return out"
   ]
  },
  {
   "cell_type": "code",
   "execution_count": null,
   "metadata": {
    "ExecuteTime": {
     "end_time": "2019-10-26T20:24:36.452943Z",
     "start_time": "2019-10-26T20:24:36.447937Z"
    }
   },
   "outputs": [],
   "source": [
    "def get_color(x):\n",
    "    return class_color[x]\n",
    "\n",
    "get_color_v = np.vectorize(get_color)\n",
    "def get_mask_from_multiclass(mask, classes = 17):\n",
    "    cl = np.argmax(mask,axis=2)\n",
    "    new_mask = np.transpose(np.array(get_color_v(cl)),axes=(1,2,0)).astype(np.uint8)\n",
    "    return new_mask"
   ]
  },
  {
   "cell_type": "code",
   "execution_count": null,
   "metadata": {
    "ExecuteTime": {
     "end_time": "2019-10-26T20:24:36.792174Z",
     "start_time": "2019-10-26T20:24:36.784150Z"
    }
   },
   "outputs": [],
   "source": [
    "def show_ix(ix):\n",
    "    image = resize(X_train[ix], (480, 640), mode='constant', preserve_range=True).astype(np.float32)\n",
    "   \n",
    "    mask = resize(get_mask_from_multiclass(Y_train[ix]), (480, 640), mode='constant', preserve_range=True)\n",
    "    mask_pred = resize(get_mask_from_multiclass(preds_train[ix]), (480, 640), mode='constant', preserve_range=True).astype(np.float32)\n",
    "\n",
    "    print(mask.shape)\n",
    "    masked = get_masked_image(image,mask_pred)\n",
    "    \n",
    "    pos, axarr = plt.subplots(2, 2)\n",
    "    \n",
    "    axarr[0, 0].set_title('image')\n",
    "    axarr[0, 0].imshow(image.astype(np.uint8))\n",
    "    axarr[0, 1].set_title('image mask')\n",
    "    axarr[0, 1].imshow(mask.astype(np.uint8))\n",
    "    axarr[1, 0].set_title('image masked by pred')\n",
    "    axarr[1, 0].imshow(masked.astype(np.uint8))\n",
    "    axarr[1, 1].set_title('predicted mask')\n",
    "    axarr[1, 1].imshow(mask_pred.astype(np.uint8))"
   ]
  },
  {
   "cell_type": "markdown",
   "metadata": {
    "_cell_guid": "59c4a25d-645f-4b74-9c53-145ac78cc481",
    "_uuid": "875af74f980236825de3a650825b46e25632422c"
   },
   "source": [
    "## Предобработка данных\n"
   ]
  },
  {
   "cell_type": "code",
   "execution_count": null,
   "metadata": {
    "ExecuteTime": {
     "end_time": "2019-10-26T20:24:51.915336Z",
     "start_time": "2019-10-26T20:24:38.680935Z"
    },
    "_cell_guid": "ca0cc34b-c26f-41ee-88d7-975aebdb634e",
    "_uuid": "9e389ba8bdb5b6fc03b231b6a6c84a8bde634053",
    "scrolled": true
   },
   "outputs": [],
   "source": [
    "X_train = np.zeros((len(train_ids), IMG_HEIGHT, IMG_WIDTH, IMG_CHANNELS), dtype=np.uint8)\n",
    "Y_train = np.zeros((len(train_ids), IMG_HEIGHT, IMG_WIDTH, 17), dtype=np.bool)\n",
    "\n",
    "train_image_id = []\n",
    "test_image_id = []\n",
    "\n",
    "print('Предобработка тренировочных данных ... ')\n",
    "sys.stdout.flush()\n",
    "for n, id_ in tqdm(enumerate(train_ids), total=len(train_ids)):\n",
    "    train_image_id.append(id_)\n",
    "    path = TRAIN_PATH + id_\n",
    "    img = imread(path + '/images/' + id_ + '.png')[:,:,:IMG_CHANNELS]\n",
    "    img = resize(img, (IMG_HEIGHT, IMG_WIDTH), mode='constant', preserve_range=True)\n",
    "    X_train[n] = img\n",
    "    mask = np.zeros((IMG_HEIGHT, IMG_WIDTH, 1), dtype=np.bool)\n",
    "    for mask_file in next(os.walk(path + '/masks/'))[2]:\n",
    "        \n",
    "        object_class = int(mask_file[-6:-4])\n",
    "        mask_ = imread(path + '/masks/' + mask_file)\n",
    "        mask_ = np.expand_dims(resize(mask_, (IMG_HEIGHT, IMG_WIDTH), mode='constant', \n",
    "                                      preserve_range=True), axis=-1)\n",
    "        Y_train[n][:,:,object_class] = np.squeeze(mask_)\n",
    "\n",
    "    Y_train[n][:,:,16] = np.logical_not(np.max(Y_train[n][:,:,:16], axis=2))\n",
    "\n",
    "X_test = np.zeros((len(test_ids), IMG_HEIGHT, IMG_WIDTH, IMG_CHANNELS), dtype=np.uint8)\n",
    "sizes_test = []\n",
    "\n",
    "print('Предобработка тестовых данных ... ')\n",
    "sys.stdout.flush()\n",
    "for n, id_ in tqdm(enumerate(test_ids), total=len(test_ids)):\n",
    "    test_image_id.append(id_)\n",
    "    path = TEST_PATH + id_\n",
    "    img = imread(path + '/images/' + id_ + '.png')[:,:,:IMG_CHANNELS]\n",
    "    sizes_test.append([img.shape[0], img.shape[1]])\n",
    "    img = resize(img, (IMG_HEIGHT, IMG_WIDTH), mode='constant', preserve_range=True)\n",
    "    X_test[n] = img"
   ]
  },
  {
   "cell_type": "markdown",
   "metadata": {},
   "source": [
    "  "
   ]
  },
  {
   "cell_type": "markdown",
   "metadata": {
    "_cell_guid": "c0523b03-1fc5-4505-a1b8-eb35ee617c8a",
    "_uuid": "d4f8327802a1ec6139ce0585953986272ba62ce1"
   },
   "source": [
    "Посмотрим как выглядят исходная картинка и ее маска:"
   ]
  },
  {
   "cell_type": "code",
   "execution_count": null,
   "metadata": {
    "ExecuteTime": {
     "end_time": "2019-10-26T20:24:52.386682Z",
     "start_time": "2019-10-26T20:24:51.916325Z"
    },
    "_cell_guid": "88829b53-50ce-45d9-9540-77dd7384ad4c",
    "_uuid": "283af26f0860b7069bdfd133c746e5d20971542c"
   },
   "outputs": [],
   "source": [
    "picture_index = random.randint(0, len(train_ids))\n",
    "imshow(X_train[picture_index])\n",
    "plt.show()\n",
    "imshow(get_mask_from_multiclass(Y_train[picture_index]))\n",
    "plt.show()"
   ]
  },
  {
   "cell_type": "markdown",
   "metadata": {},
   "source": [
    "## Создадим метрику для оценки качества модели"
   ]
  },
  {
   "cell_type": "markdown",
   "metadata": {},
   "source": [
    "Будем пользоваться индексом Жакара, усредненным по всем классам и батчу. Подробнее о ней вы можете прочитать здесь: https://en.m.wikipedia.org/wiki/Jaccard_index"
   ]
  },
  {
   "cell_type": "markdown",
   "metadata": {},
   "source": [
    "<img src='https://www.pyimagesearch.com/wp-content/uploads/2016/09/iou_equation.png'>"
   ]
  },
  {
   "cell_type": "code",
   "execution_count": null,
   "metadata": {
    "ExecuteTime": {
     "end_time": "2019-10-26T20:24:57.990136Z",
     "start_time": "2019-10-26T20:24:57.984148Z"
    },
    "_cell_guid": "c1df6f3a-d58f-434b-9216-ef7be38637d4",
    "_uuid": "5abd38950ae99b60f8afec7656eb654a48d449fe"
   },
   "outputs": [],
   "source": [
    "def mean_iou(y_true, y_pred):\n",
    "    prec = []\n",
    "    for t in np.arange(0.5, 1.0, 0.05):\n",
    "        y_pred_ = tf.cast(y_pred > t, tf.int32)\n",
    "        score, up_opt = tf.metrics.mean_iou(y_true, y_pred_, 16)\n",
    "        K.get_session().run(tf.local_variables_initializer())\n",
    "        with tf.control_dependencies([up_opt]):\n",
    "            score = tf.identity(score)\n",
    "        prec.append(score)\n",
    "    return K.mean(K.stack(prec), axis=0)"
   ]
  },
  {
   "cell_type": "markdown",
   "metadata": {},
   "source": [
    "## Построение сети"
   ]
  },
  {
   "cell_type": "markdown",
   "metadata": {
    "_cell_guid": "c3b9f148-1dba-4b6a-981b-6cdbf394fc3c",
    "_uuid": "986488a4c5223576be370e224426a30431911eb2"
   },
   "source": [
    "Теперь можно начать построение сети. За основу будем использовать архитектуру U-net."
   ]
  },
  {
   "cell_type": "markdown",
   "metadata": {},
   "source": [
    "<img src='https://lmb.informatik.uni-freiburg.de/people/ronneber/u-net/u-net-architecture.png'>"
   ]
  },
  {
   "cell_type": "markdown",
   "metadata": {},
   "source": [
    "Архитектура состоит из блоков (горизонтальные участки из синих прямоугольников). На примере выше сначала идёт 5 блоков кодировщика, далее 4 блока декодировщика. Между блоками кодировщика происходит уменьшение размерности в 2 раза с помощью max pooling. В декодировщике применяется upsampling и конкатенация с результатами соответствующего блока кодировщика. \n",
    "\n",
    "Давайте реализуем U-net по частям. Начнём с кодировщика. \n",
    "\n",
    "Один блок кодировщика состоит из следующих слоев: \n",
    "1. свертка\n",
    "2. активация (будем использовать ELU)\n",
    "3. дропаута\n",
    "4. свертка\n",
    "5. активация \n",
    "6. maxpooling"
   ]
  },
  {
   "cell_type": "code",
   "execution_count": null,
   "metadata": {
    "ExecuteTime": {
     "end_time": "2019-10-26T20:25:00.273776Z",
     "start_time": "2019-10-26T20:25:00.247758Z"
    }
   },
   "outputs": [],
   "source": [
    "inputs = Input((IMG_HEIGHT, IMG_WIDTH, IMG_CHANNELS))\n",
    "s = Lambda(lambda x: x / 255) (inputs)"
   ]
  },
  {
   "cell_type": "code",
   "execution_count": null,
   "metadata": {
    "ExecuteTime": {
     "end_time": "2019-10-26T20:25:00.779267Z",
     "start_time": "2019-10-26T20:25:00.648194Z"
    },
    "_cell_guid": "c1dbc57c-b497-4ccb-b077-2053203ab7ed",
    "_uuid": "0aa97d66c29f45dfac9b0f45fcf74ba0e778ba5d"
   },
   "outputs": [],
   "source": [
    "c1 = Conv2D(16, (3, 3), activation='elu', kernel_initializer='he_normal', padding='same') (s)\n",
    "c1 = Dropout(0.1) (c1)\n",
    "c1 = Conv2D(16, (3, 3), activation='elu', kernel_initializer='he_normal', padding='same') (c1)\n",
    "\n",
    "p1 = MaxPooling2D((2, 2)) (c1)\n",
    "\n",
    "c2 = Conv2D(32, (3, 3), activation='elu', kernel_initializer='he_normal', padding='same') (p1)\n",
    "c2 = Dropout(0.1) (c2)\n",
    "c2 = Conv2D(32, (3, 3), activation='elu', kernel_initializer='he_normal', padding='same') (c2)\n",
    "\n",
    "p2 = MaxPooling2D((2, 2)) (c2)"
   ]
  },
  {
   "cell_type": "markdown",
   "metadata": {},
   "source": [
    "Задание:\n",
    "Реализуйте остальные 3 блока кодировщика по такому же принципу. Количество фильтров должно увеличиваться в 2 раза. \n",
    "Будьте внимательны, в последнем блоке не нужен MaxPooling."
   ]
  },
  {
   "cell_type": "code",
   "execution_count": null,
   "metadata": {
    "ExecuteTime": {
     "end_time": "2019-10-26T20:25:01.639200Z",
     "start_time": "2019-10-26T20:25:01.464076Z"
    }
   },
   "outputs": [],
   "source": [
    "<your code>"
   ]
  },
  {
   "cell_type": "markdown",
   "metadata": {},
   "source": [
    "Теперь реализуем декодировщик.\n",
    "Один блок декодировщика состоит последовательно из следующих слоев: \n",
    "1. транспонированная свертка\n",
    "2. конкатенация\n",
    "3. свертка\n",
    "4. активация\n",
    "5. дропаут\n",
    "6. свертка\n",
    "7. активация"
   ]
  },
  {
   "cell_type": "code",
   "execution_count": null,
   "metadata": {
    "ExecuteTime": {
     "end_time": "2019-10-26T20:25:02.407006Z",
     "start_time": "2019-10-26T20:25:02.207853Z"
    }
   },
   "outputs": [],
   "source": [
    "u6 = Conv2DTranspose(128, (2, 2), strides=(2, 2), padding='same') (c5)\n",
    "u6 = concatenate([u6, c4])\n",
    "c6 = Conv2D(128, (3, 3), activation='elu', kernel_initializer='he_normal', padding='same') (u6)\n",
    "c6 = Dropout(0.2) (c6)\n",
    "c6 = Conv2D(128, (3, 3), activation='elu', kernel_initializer='he_normal', padding='same') (c6)\n",
    "\n",
    "u7 = Conv2DTranspose(64, (2, 2), strides=(2, 2), padding='same') (c6)\n",
    "u7 = concatenate([u7, c3])\n",
    "c7 = Conv2D(64, (3, 3), activation='elu', kernel_initializer='he_normal', padding='same') (u7)\n",
    "c7 = Dropout(0.2) (c7)\n",
    "c7 = Conv2D(64, (3, 3), activation='elu', kernel_initializer='he_normal', padding='same') (c7)"
   ]
  },
  {
   "cell_type": "markdown",
   "metadata": {},
   "source": [
    "Задание: Реализуйте остальные 2 блока кодировщика по такому же принципу. Количество фильтров должно уменьшаться в 2 раза. "
   ]
  },
  {
   "cell_type": "code",
   "execution_count": null,
   "metadata": {
    "ExecuteTime": {
     "end_time": "2019-10-26T20:25:03.056673Z",
     "start_time": "2019-10-26T20:25:02.839538Z"
    }
   },
   "outputs": [],
   "source": [
    "<your code>"
   ]
  },
  {
   "cell_type": "markdown",
   "metadata": {},
   "source": [
    "На выходе из сети получаем бинарную маску из линейных активаций. Для обучения такой модели используются функции потерь, которые включают в себя применение активации. В вероятности их можно превращать с помощью sigmoid."
   ]
  },
  {
   "cell_type": "code",
   "execution_count": null,
   "metadata": {
    "ExecuteTime": {
     "end_time": "2019-10-26T20:25:04.364682Z",
     "start_time": "2019-10-26T20:25:04.336664Z"
    }
   },
   "outputs": [],
   "source": [
    "outputs = Conv2D(17, (1, 1), activation='sigmoid') (c9)"
   ]
  },
  {
   "cell_type": "markdown",
   "metadata": {},
   "source": [
    "Для обучения модели необходимо определить функцию потерь и оптимизатор. Сейчас для задачи бинарной сегментации нам потребуется бинарная кросс энтропия, которая на вход будет принимать вероятности. В качестве оптимизатора будем использовать Adam."
   ]
  },
  {
   "cell_type": "code",
   "execution_count": null,
   "metadata": {
    "ExecuteTime": {
     "end_time": "2019-10-26T20:25:09.548512Z",
     "start_time": "2019-10-26T20:25:05.144097Z"
    }
   },
   "outputs": [],
   "source": [
    "model = Model(inputs=[inputs], outputs=[outputs])\n",
    "\n",
    "model.compile(<задайте функцию потерь, оптимизатор и метрику IoU, реализованную выше>)"
   ]
  },
  {
   "cell_type": "markdown",
   "metadata": {},
   "source": [
    "Посмотрим описание нашей модели"
   ]
  },
  {
   "cell_type": "code",
   "execution_count": null,
   "metadata": {
    "ExecuteTime": {
     "end_time": "2019-10-26T20:25:09.709629Z",
     "start_time": "2019-10-26T20:25:09.550541Z"
    },
    "scrolled": true
   },
   "outputs": [],
   "source": [
    "model.summary()"
   ]
  },
  {
   "cell_type": "markdown",
   "metadata": {},
   "source": [
    "Запустим тренировку модели:"
   ]
  },
  {
   "cell_type": "code",
   "execution_count": null,
   "metadata": {
    "ExecuteTime": {
     "end_time": "2019-10-26T20:46:28.747386Z",
     "start_time": "2019-10-26T20:27:59.407813Z"
    },
    "_cell_guid": "9415b1c4-aa69-41b9-a1e3-d6053dbd4f64",
    "_uuid": "c060db22daa2abf12b28240cd81bbcbf1ce1bf87",
    "scrolled": true
   },
   "outputs": [],
   "source": [
    "earlystopper = EarlyStopping(patience=5, verbose=0)\n",
    "checkpointer = ModelCheckpoint('model-segmentation-homework-1.h5', verbose=0, save_best_only=True)\n",
    "\n",
    "results = model.fit(X_train, Y_train, validation_split=0.1, batch_size=16, epochs=60, \n",
    "                    callbacks=[checkpointer])"
   ]
  },
  {
   "cell_type": "markdown",
   "metadata": {},
   "source": [
    "## Построим пару графиков"
   ]
  },
  {
   "cell_type": "markdown",
   "metadata": {},
   "source": [
    "#### Зависимость лосса от количества эпох:"
   ]
  },
  {
   "cell_type": "code",
   "execution_count": null,
   "metadata": {
    "ExecuteTime": {
     "end_time": "2019-10-26T20:48:42.280952Z",
     "start_time": "2019-10-26T20:48:42.277950Z"
    }
   },
   "outputs": [],
   "source": [
    "history = results"
   ]
  },
  {
   "cell_type": "code",
   "execution_count": null,
   "metadata": {
    "ExecuteTime": {
     "end_time": "2019-10-26T20:48:43.697144Z",
     "start_time": "2019-10-26T20:48:43.534022Z"
    },
    "scrolled": false
   },
   "outputs": [],
   "source": [
    "plt.plot(history.history['loss'])\n",
    "plt.plot(history.history['val_loss'])\n",
    "plt.title('model loss')\n",
    "plt.ylabel('loss')\n",
    "plt.xlabel('epoch')\n",
    "plt.legend(['train', 'test'], loc='upper left')\n",
    "plt.show()"
   ]
  },
  {
   "cell_type": "markdown",
   "metadata": {},
   "source": [
    "#### Зависимость метрики mean IoU от количества эпох"
   ]
  },
  {
   "cell_type": "markdown",
   "metadata": {},
   "source": [
    "Задание: Постройте зависимость метрики mean IoU от количества эпох"
   ]
  },
  {
   "cell_type": "code",
   "execution_count": null,
   "metadata": {
    "ExecuteTime": {
     "end_time": "2019-10-26T14:51:20.271009Z",
     "start_time": "2019-10-26T14:51:20.047823Z"
    }
   },
   "outputs": [],
   "source": [
    "<your code>"
   ]
  },
  {
   "cell_type": "markdown",
   "metadata": {},
   "source": [
    "## Предсказания модели"
   ]
  },
  {
   "cell_type": "markdown",
   "metadata": {
    "ExecuteTime": {
     "end_time": "2019-10-26T15:48:55.127615Z",
     "start_time": "2019-10-26T15:48:55.123633Z"
    }
   },
   "source": [
    "Давайте сделаем предсказания на тестовых, валидационных и тренировочных данных (в качестве проверки работоспособности)."
   ]
  },
  {
   "cell_type": "code",
   "execution_count": null,
   "metadata": {
    "ExecuteTime": {
     "end_time": "2019-10-26T20:49:12.234834Z",
     "start_time": "2019-10-26T20:48:55.805967Z"
    },
    "_cell_guid": "2daa48d5-ac98-4e18-af3f-a582baaa44f0",
    "_uuid": "f841760b4abca1a25cb750822f88268bd79bf2ce"
   },
   "outputs": [],
   "source": [
    "model = load_model('model-segmentation-homework-1.h5', custom_objects={'mean_iou': mean_iou})\n",
    "preds_train = model.predict(X_train[:int(X_train.shape[0]*0.9)], verbose=1)\n",
    "preds_val = model.predict(X_train[int(X_train.shape[0]*0.9):], verbose=1)\n",
    "preds_test = model.predict(X_test, verbose=1)\n",
    "\n",
    "\n",
    "preds_train_t = (preds_train > 0.5).astype(np.uint8)\n",
    "preds_val_t = (preds_val > 0.5).astype(np.uint8)\n",
    "preds_test_t = (preds_test > 0.5).astype(np.uint8)\n",
    "\n",
    "\n",
    "preds_test_upsampled = []\n",
    "for i in range(len(preds_test)):\n",
    "    preds_test_upsampled.append(resize(np.squeeze(preds_test[i]), \n",
    "                                       (sizes_test[i][0], sizes_test[i][1]), \n",
    "                                       mode='constant', preserve_range=True))"
   ]
  },
  {
   "cell_type": "markdown",
   "metadata": {},
   "source": [
    " "
   ]
  },
  {
   "cell_type": "markdown",
   "metadata": {},
   "source": [
    "Посмотрим на результат предсказания"
   ]
  },
  {
   "cell_type": "code",
   "execution_count": null,
   "metadata": {
    "ExecuteTime": {
     "end_time": "2019-10-26T20:49:16.845832Z",
     "start_time": "2019-10-26T20:49:16.126341Z"
    },
    "_cell_guid": "649248cd-a1fb-4da6-ade2-4bebad44bcab",
    "_uuid": "7e06242a50870e07a080064a4912b761775990fa"
   },
   "outputs": [],
   "source": [
    "picture_index = random.randint(0, len(preds_train_t))\n",
    "show_ix(picture_index)"
   ]
  },
  {
   "cell_type": "markdown",
   "metadata": {},
   "source": [
    "## Подготовим результаты для сабмита"
   ]
  },
  {
   "cell_type": "code",
   "execution_count": null,
   "metadata": {
    "ExecuteTime": {
     "end_time": "2019-10-26T21:30:26.329852Z",
     "start_time": "2019-10-26T21:30:26.321845Z"
    },
    "_cell_guid": "59a0af60-a7d7-41ef-a6fe-9e3c72defa07",
    "_uuid": "4f99c1bf852e82b60bd4f982ca0df293f712cdf0"
   },
   "outputs": [],
   "source": [
    "def rle_encoding(x):\n",
    "    dots = np.where(x.T.flatten() == 1)[0]\n",
    "    run_lengths = []\n",
    "    prev = -2\n",
    "    for b in dots:\n",
    "        if (b>prev+1): run_lengths.extend((b + 1, 0))\n",
    "        run_lengths[-1] += 1\n",
    "        prev = b\n",
    "    return run_lengths\n",
    "\n",
    "def prob_to_rles(x, cutoff=0.5):\n",
    "    lab_img = label(x > cutoff)\n",
    "    for i in range(1, lab_img.max() + 1):\n",
    "        yield rle_encoding(lab_img == i)\n",
    "\n",
    "        \n",
    "def bool_to_rles(x):\n",
    "    lab_img = label(x)\n",
    "    for i in range(1, lab_img.max() + 1):\n",
    "        yield rle_encoding(lab_img == i)    \n",
    "           \n",
    "def join_nums(x):\n",
    "    s = ''\n",
    "    for z in x:\n",
    "        s = s + ' '.join(str(y) for y in z) + ' '\n",
    "    return s[:-1]\n",
    "\n",
    "def rle2mask(mask_rle, shape):\n",
    "    \"\"\"\n",
    "    mask_rle: run-length as string formated (start length)ы\n",
    "    shape: (width,height) of array to return\n",
    "    Returns numpy array, 1 - mask, 0 - background\n",
    "    \"\"\"\n",
    "    if mask_rle != mask_rle:\n",
    "        return np.zeros_like(shape)\n",
    "\n",
    "    s = mask_rle.split()\n",
    "    starts, lengths = [np.asarray(x, dtype=int) for x in (s[0:][::2], s[1:][::2])]\n",
    "    starts -= 1\n",
    "    ends = starts + lengths\n",
    "    img = np.zeros(shape[0]*shape[1], dtype=np.uint8)\n",
    "    for lo, hi in zip(starts, ends):\n",
    "        img[lo:hi] = 1\n",
    "    return img.reshape(shape).T"
   ]
  },
  {
   "cell_type": "code",
   "execution_count": null,
   "metadata": {
    "ExecuteTime": {
     "end_time": "2019-10-26T21:31:24.251844Z",
     "start_time": "2019-10-26T21:31:23.442264Z"
    },
    "_cell_guid": "22fe24a1-7659-4cc9-9d23-211f38e5b99f",
    "_uuid": "089587843ed6a3955fdcb9b23a6ec3bf5d703688"
   },
   "outputs": [],
   "source": [
    "img_labels = []\n",
    "cl_labels = []\n",
    "encoded = []\n",
    "\n",
    "flush_classes = np.argmax(preds_test_upsampled, axis = 3)\n",
    "\n",
    "for i,id_ in enumerate(test_image_id):\n",
    "    for j in range(16):\n",
    "        rle = list(bool_to_rles(flush_classes[i] == j))\n",
    "        if len(rle) > 0:\n",
    "            img_labels.append(id_+'.png')\n",
    "            cl_labels.append(j)\n",
    "            encoded.append(rle)"
   ]
  },
  {
   "cell_type": "code",
   "execution_count": null,
   "metadata": {
    "ExecuteTime": {
     "end_time": "2019-10-26T21:31:24.264853Z",
     "start_time": "2019-10-26T21:31:24.253846Z"
    },
    "_cell_guid": "3f5e5a47-6133-4870-976a-a8e4fa7bf46c",
    "_uuid": "2a83eab66bf55194f300953bea5534b6a043130f"
   },
   "outputs": [],
   "source": [
    "submission = pd.DataFrame()\n",
    "submission['ImageId'] = img_labels\n",
    "submission['ClassId'] = cl_labels\n",
    "submission['EncodedPixels'] = pd.Series(encoded).apply(join_nums)"
   ]
  },
  {
   "cell_type": "code",
   "execution_count": null,
   "metadata": {
    "ExecuteTime": {
     "end_time": "2019-10-26T21:31:24.365552Z",
     "start_time": "2019-10-26T21:31:24.360549Z"
    }
   },
   "outputs": [],
   "source": [
    "submission.to_csv('submission.csv',index = False)"
   ]
  }
 ],
 "metadata": {
  "kernelspec": {
   "display_name": "Python 3",
   "language": "python",
   "name": "python3"
  },
  "language_info": {
   "codemirror_mode": {
    "name": "ipython",
    "version": 3
   },
   "file_extension": ".py",
   "mimetype": "text/x-python",
   "name": "python",
   "nbconvert_exporter": "python",
   "pygments_lexer": "ipython3",
   "version": "3.6.8"
  },
  "toc": {
   "nav_menu": {},
   "number_sections": true,
   "sideBar": true,
   "skip_h1_title": true,
   "toc_cell": true,
   "toc_position": {},
   "toc_section_display": "block",
   "toc_window_display": true
  }
 },
 "nbformat": 4,
 "nbformat_minor": 1
}
